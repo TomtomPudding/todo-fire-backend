{
 "cells": [
  {
   "cell_type": "markdown",
   "metadata": {},
   "source": [
    "## DynamoDB 初期データ挿入 Notebook (Local)"
   ]
  },
  {
   "cell_type": "code",
   "execution_count": 1,
   "metadata": {},
   "outputs": [],
   "source": [
    "import boto3\n",
    "\n",
    "dynamodb = boto3.resource('dynamodb', endpoint_url=\"http://host.docker.internal:8000\",\n",
    "                            region_name='ap-northeast-1')"
   ]
  },
  {
   "cell_type": "markdown",
   "metadata": {},
   "source": [
    "### User テーブル 初期データ追加"
   ]
  },
  {
   "cell_type": "code",
   "execution_count": 2,
   "metadata": {},
   "outputs": [],
   "source": [
    "import datetime\n",
    "import pytz\n",
    "\n",
    "now = datetime.datetime.now(pytz.timezone('Asia/Tokyo'))\n",
    "now_string = now.strftime(\"%Y-%m-%dT%H:%M:%S.000Z\")"
   ]
  },
  {
   "cell_type": "code",
   "execution_count": 3,
   "metadata": {},
   "outputs": [
    {
     "data": {
      "text/plain": [
       "{'ResponseMetadata': {'RequestId': '1a019e6c-03ae-4807-89d0-b5346d928c64',\n",
       "  'HTTPStatusCode': 200,\n",
       "  'HTTPHeaders': {'content-type': 'application/x-amz-json-1.0',\n",
       "   'x-amz-crc32': '2745614147',\n",
       "   'x-amzn-requestid': '1a019e6c-03ae-4807-89d0-b5346d928c64',\n",
       "   'content-length': '2',\n",
       "   'server': 'Jetty(8.1.12.v20130726)'},\n",
       "  'RetryAttempts': 0}}"
      ]
     },
     "execution_count": 3,
     "metadata": {},
     "output_type": "execute_result"
    }
   ],
   "source": [
    "import json\n",
    "\n",
    "table_name_user = \"LocalUser\"\n",
    "\n",
    "dynamo_user = dynamodb.Table(table_name_user)\n",
    "json_user = json.load(open('user.json', 'r'))\n",
    "json_user[\"created_at\"] = now_string\n",
    "json_user[\"updated_at\"] = now_string\n",
    "\n",
    "dynamo_user.put_item(Item = json_user)"
   ]
  },
  {
   "cell_type": "markdown",
   "metadata": {},
   "source": [
    "### Tokenテーブル 初期データ追加"
   ]
  },
  {
   "cell_type": "code",
   "execution_count": 4,
   "metadata": {},
   "outputs": [
    {
     "name": "stdout",
     "output_type": "stream",
     "text": [
      "{'user_id': '90000001', 'token': 'test_token', 'created_at': '2020-12-23T03:34:57.000Z', 'updated_at': '2020-12-23T03:34:57.000Z', 'expired_at': '2023-12-23T03:34:57.000Z'}\n"
     ]
    },
    {
     "data": {
      "text/plain": [
       "{'ResponseMetadata': {'RequestId': '8fca66ec-85ac-4a2b-a6bd-917bcb4b7aea',\n",
       "  'HTTPStatusCode': 200,\n",
       "  'HTTPHeaders': {'content-type': 'application/x-amz-json-1.0',\n",
       "   'x-amz-crc32': '2745614147',\n",
       "   'x-amzn-requestid': '8fca66ec-85ac-4a2b-a6bd-917bcb4b7aea',\n",
       "   'content-length': '2',\n",
       "   'server': 'Jetty(8.1.12.v20130726)'},\n",
       "  'RetryAttempts': 0}}"
      ]
     },
     "execution_count": 4,
     "metadata": {},
     "output_type": "execute_result"
    }
   ],
   "source": [
    "table_name_token = \"LocalToken\"\n",
    "\n",
    "dynamo_token = dynamodb.Table(table_name_token)\n",
    "json_token = json.load(open('token.json', 'r'))\n",
    "json_token[\"created_at\"] = now_string\n",
    "json_token[\"updated_at\"] = now_string\n",
    "\n",
    "expired_time = now.replace(year = now.year + 3).strftime(\"%Y-%m-%dT%H:%M:%S.000Z\")\n",
    "json_token[\"expired_at\"] = expired_time\n",
    "print(json_token)\n",
    "dynamo_token.put_item(Item = json_token)"
   ]
  }
 ],
 "metadata": {
  "kernelspec": {
   "display_name": "Python 3",
   "language": "python",
   "name": "python3"
  },
  "language_info": {
   "codemirror_mode": {
    "name": "ipython",
    "version": 3
   },
   "file_extension": ".py",
   "mimetype": "text/x-python",
   "name": "python",
   "nbconvert_exporter": "python",
   "pygments_lexer": "ipython3",
   "version": "3.8.6"
  }
 },
 "nbformat": 4,
 "nbformat_minor": 4
}
