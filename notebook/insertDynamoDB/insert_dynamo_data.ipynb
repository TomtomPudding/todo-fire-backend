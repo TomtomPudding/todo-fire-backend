{
 "cells": [
  {
   "cell_type": "markdown",
   "metadata": {},
   "source": [
    "## DynamoDB 初期データ挿入 Notebook (Local)"
   ]
  },
  {
   "cell_type": "code",
   "execution_count": 1,
   "metadata": {},
   "outputs": [],
   "source": [
    "import boto3\n",
    "\n",
    "dynamodb = boto3.resource('dynamodb', endpoint_url=\"http://host.docker.internal:8000\",\n",
    "                            region_name='ap-northeast-1')"
   ]
  },
  {
   "cell_type": "markdown",
   "metadata": {},
   "source": [
    "### User テーブル 初期データ追加"
   ]
  },
  {
   "cell_type": "code",
   "execution_count": 2,
   "metadata": {},
   "outputs": [],
   "source": [
    "import datetime\n",
    "import pytz\n",
    "\n",
    "now = datetime.datetime.now(pytz.timezone('Asia/Tokyo'))\n",
    "now_string = now.strftime(\"%Y-%m-%dT%H:%M:%S.000Z\")"
   ]
  },
  {
   "cell_type": "code",
   "execution_count": 3,
   "metadata": {},
   "outputs": [
    {
     "data": {
      "text/plain": [
       "{'ResponseMetadata': {'RequestId': 'f67e1a67-644f-4f96-9299-e2ecb7bd2daf',\n",
       "  'HTTPStatusCode': 200,\n",
       "  'HTTPHeaders': {'content-type': 'application/x-amz-json-1.0',\n",
       "   'x-amz-crc32': '2745614147',\n",
       "   'x-amzn-requestid': 'f67e1a67-644f-4f96-9299-e2ecb7bd2daf',\n",
       "   'content-length': '2',\n",
       "   'server': 'Jetty(8.1.12.v20130726)'},\n",
       "  'RetryAttempts': 0}}"
      ]
     },
     "execution_count": 3,
     "metadata": {},
     "output_type": "execute_result"
    }
   ],
   "source": [
    "import json\n",
    "\n",
    "table_name_user = \"LocalUser\"\n",
    "\n",
    "dynamo_user = dynamodb.Table(table_name_user)\n",
    "json_user = json.load(open('user.json', 'r'))\n",
    "json_user[\"created_at\"] = now_string\n",
    "json_user[\"updated_at\"] = now_string\n",
    "\n",
    "dynamo_user.put_item(Item = json_user)"
   ]
  },
  {
   "cell_type": "markdown",
   "metadata": {},
   "source": [
    "### Tokenテーブル 初期データ追加"
   ]
  },
  {
   "cell_type": "code",
   "execution_count": 4,
   "metadata": {},
   "outputs": [
    {
     "name": "stdout",
     "output_type": "stream",
     "text": [
      "{'group_id': '90000001', 'token': 'test_token', 'created_at': '2021-02-09T04:26:30.000Z', 'updated_at': '2021-02-09T04:26:30.000Z', 'expired_at': '2024-02-09T04:26:30.000Z'}\n"
     ]
    },
    {
     "data": {
      "text/plain": [
       "{'ResponseMetadata': {'RequestId': 'c32f512a-94ac-4b30-b6e4-fc7a32eda466',\n",
       "  'HTTPStatusCode': 200,\n",
       "  'HTTPHeaders': {'content-type': 'application/x-amz-json-1.0',\n",
       "   'x-amz-crc32': '2745614147',\n",
       "   'x-amzn-requestid': 'c32f512a-94ac-4b30-b6e4-fc7a32eda466',\n",
       "   'content-length': '2',\n",
       "   'server': 'Jetty(8.1.12.v20130726)'},\n",
       "  'RetryAttempts': 0}}"
      ]
     },
     "execution_count": 4,
     "metadata": {},
     "output_type": "execute_result"
    }
   ],
   "source": [
    "table_name_token = \"LocalToken\"\n",
    "\n",
    "dynamo_token = dynamodb.Table(table_name_token)\n",
    "json_token = json.load(open('token.json', 'r'))\n",
    "json_token[\"created_at\"] = now_string\n",
    "json_token[\"updated_at\"] = now_string\n",
    "\n",
    "expired_time = now.replace(year = now.year + 3).strftime(\"%Y-%m-%dT%H:%M:%S.000Z\")\n",
    "json_token[\"expired_at\"] = expired_time\n",
    "print(json_token)\n",
    "dynamo_token.put_item(Item = json_token)"
   ]
  },
  {
   "cell_type": "code",
   "execution_count": 5,
   "metadata": {},
   "outputs": [
    {
     "name": "stdout",
     "output_type": "stream",
     "text": [
      "{'id': '99999999999', 'name': 'test_project1', 'type': '\"PRIVATE\"', 'color': '\"BLACK\"', 'status': '\"OPEN\"', 'group': '[{\"id\": \"000000001\", \"name\": \"タスクリスト\", \"position\": 1}, {\"id\": \"000000002\", \"name\": \"作業中\", \"position\": 2}, {\"id\": \"000000003\", \"name\": \"作成ずみ\", \"position\": 3}]', 'contents': '[{\"id\": \"100000001\", \"title\": \"タスクリスト１\", \"content\": \"タスク詳細\", \"group_id\": \"000000001\", \"created_user_id\": \"90000001\", \"updated_user_id\": \"90000001\", \"created_at\": \"2021-01-04T00:01:02.000Z\", \"updated_at\": \"2021-01-04T00:01:02.000Z\"}, {\"id\": \"100000002\", \"title\": \"タスクリスト2\", \"content\": \"タスク詳細\", \"group_id\": \"000000001\", \"created_user_id\": \"90000001\", \"updated_user_id\": \"90000001\", \"created_at\": \"2021-01-04T00:01:02.000Z\", \"updated_at\": \"2021-01-04T00:01:02.000Z\"}, {\"id\": \"100000003\", \"title\": \"作業中1\", \"content\": \"タスク詳細\", \"group_id\": \"000000002\", \"created_user_id\": \"90000001\", \"updated_user_id\": \"90000001\", \"created_at\": \"2021-01-04T00:01:02.000Z\", \"updated_at\": \"2021-01-04T00:01:02.000Z\"}, {\"id\": \"100000004\", \"title\": \"作業中2\", \"content\": \"タスク詳細\", \"group_id\": \"000000002\", \"created_user_id\": \"90000001\", \"updated_user_id\": \"90000001\", \"created_at\": \"2021-01-04T00:01:02.000Z\", \"updated_at\": \"2021-01-04T00:01:02.000Z\"}]', 'writer': '[\"90000001\"]', 'viewer': '[\"90000002\"]', 'created_at': '2021-02-09T04:26:30.000Z', 'updated_at': '2021-02-09T04:26:30.000Z'}\n",
      "{'id': '99999999998', 'name': 'test_project2', 'type': '\"PRIVATE\"', 'color': '\"BLACK\"', 'status': '\"OPEN\"', 'group': '[{\"id\": \"000000001\", \"name\": \"タスクリスト\", \"position\": 1}, {\"id\": \"000000002\", \"name\": \"作業中\", \"position\": 2}, {\"id\": \"000000003\", \"name\": \"作成ずみ\", \"position\": 3}]', 'contents': '[{\"id\": \"100000001\", \"title\": \"タスクリスト１\", \"content\": \"タスク詳細\", \"group_id\": \"000000001\", \"created_user_id\": \"90000001\", \"updated_user_id\": \"90000001\", \"created_at\": \"2021-01-04T00:01:02.000Z\", \"updated_at\": \"2021-01-04T00:01:02.000Z\"}, {\"id\": \"100000002\", \"title\": \"タスクリスト2\", \"content\": \"タスク詳細\", \"group_id\": \"000000001\", \"created_user_id\": \"90000001\", \"updated_user_id\": \"90000001\", \"created_at\": \"2021-01-04T00:01:02.000Z\", \"updated_at\": \"2021-01-04T00:01:02.000Z\"}, {\"id\": \"100000003\", \"title\": \"作業中1\", \"content\": \"タスク詳細\", \"group_id\": \"000000002\", \"created_user_id\": \"90000001\", \"updated_user_id\": \"90000001\", \"created_at\": \"2021-01-04T00:01:02.000Z\", \"updated_at\": \"2021-01-04T00:01:02.000Z\"}, {\"id\": \"100000004\", \"title\": \"作業中2\", \"content\": \"タスク詳細\", \"group_id\": \"000000002\", \"created_user_id\": \"90000001\", \"updated_user_id\": \"90000001\", \"created_at\": \"2021-01-04T00:01:02.000Z\", \"updated_at\": \"2021-01-04T00:01:02.000Z\"}]', 'writer': '[\"90000001\"]', 'viewer': '[\"90000002\"]', 'created_at': '2021-02-09T04:26:30.000Z', 'updated_at': '2021-02-09T04:26:30.000Z'}\n"
     ]
    }
   ],
   "source": [
    "table_name_project = \"LocalProject\"\n",
    "\n",
    "dynamo_project = dynamodb.Table(table_name_project)\n",
    "json_project = json.load(open('project.json', 'r'))\n",
    "\n",
    "import json\n",
    "for i in range(len(json_project)):\n",
    "    json_project[i][\"writer\"] = json.dumps(json_project[i][\"writer\"], ensure_ascii=False)\n",
    "    json_project[i][\"viewer\"] = json.dumps(json_project[i][\"viewer\"], ensure_ascii=False)\n",
    "    json_project[i][\"contents\"] = json.dumps(json_project[i][\"contents\"], ensure_ascii=False)\n",
    "    json_project[i][\"group\"] = json.dumps(json_project[i][\"group\"], ensure_ascii=False)\n",
    "    json_project[i][\"created_at\"] = now_string\n",
    "    json_project[i][\"updated_at\"] = now_string\n",
    "    print(json_project[i])\n",
    "    dynamo_project.put_item(Item = json_project[i])\n"
   ]
  }
 ],
 "metadata": {
  "kernelspec": {
   "display_name": "Python 3",
   "language": "python",
   "name": "python3"
  },
  "language_info": {
   "codemirror_mode": {
    "name": "ipython",
    "version": 3
   },
   "file_extension": ".py",
   "mimetype": "text/x-python",
   "name": "python",
   "nbconvert_exporter": "python",
   "pygments_lexer": "ipython3",
   "version": "3.8.6"
  }
 },
 "nbformat": 4,
 "nbformat_minor": 4
}
