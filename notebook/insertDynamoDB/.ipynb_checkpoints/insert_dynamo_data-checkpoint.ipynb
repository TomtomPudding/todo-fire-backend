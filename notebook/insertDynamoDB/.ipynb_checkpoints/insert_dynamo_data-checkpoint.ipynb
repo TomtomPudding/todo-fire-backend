{
 "cells": [
  {
   "cell_type": "markdown",
   "metadata": {},
   "source": [
    "## DynamoDB 初期データ挿入 Notebook (Local)"
   ]
  },
  {
   "cell_type": "code",
   "execution_count": 1,
   "metadata": {},
   "outputs": [],
   "source": [
    "import boto3\n",
    "\n",
    "dynamodb = boto3.resource('dynamodb', endpoint_url=\"http://host.docker.internal:8000\",\n",
    "                            region_name='ap-northeast-1')"
   ]
  },
  {
   "cell_type": "markdown",
   "metadata": {},
   "source": [
    "### User テーブル 初期データ追加"
   ]
  },
  {
   "cell_type": "code",
   "execution_count": 2,
   "metadata": {},
   "outputs": [],
   "source": [
    "import datetime\n",
    "import pytz\n",
    "\n",
    "now = datetime.datetime.now(pytz.timezone('Asia/Tokyo'))\n",
    "now_string = now.strftime(\"%Y-%m-%dT%H:%M:%S.000Z\")"
   ]
  },
  {
   "cell_type": "code",
   "execution_count": 3,
   "metadata": {},
   "outputs": [
    {
     "data": {
      "text/plain": [
       "{'ResponseMetadata': {'RequestId': 'f8579d97-6fb3-481a-abe5-4963a67d66f1',\n",
       "  'HTTPStatusCode': 200,\n",
       "  'HTTPHeaders': {'content-type': 'application/x-amz-json-1.0',\n",
       "   'x-amz-crc32': '2745614147',\n",
       "   'x-amzn-requestid': 'f8579d97-6fb3-481a-abe5-4963a67d66f1',\n",
       "   'content-length': '2',\n",
       "   'server': 'Jetty(8.1.12.v20130726)'},\n",
       "  'RetryAttempts': 0}}"
      ]
     },
     "execution_count": 3,
     "metadata": {},
     "output_type": "execute_result"
    }
   ],
   "source": [
    "import json\n",
    "\n",
    "table_name_user = \"LocalUser\"\n",
    "\n",
    "dynamo_user = dynamodb.Table(table_name_user)\n",
    "json_user = json.load(open('user.json', 'r'))\n",
    "json_user[\"created_at\"] = now_string\n",
    "json_user[\"updated_at\"] = now_string\n",
    "\n",
    "dynamo_user.put_item(Item = json_user)"
   ]
  },
  {
   "cell_type": "markdown",
   "metadata": {},
   "source": [
    "### Tokenテーブル 初期データ追加"
   ]
  },
  {
   "cell_type": "code",
   "execution_count": 4,
   "metadata": {},
   "outputs": [
    {
     "name": "stdout",
     "output_type": "stream",
     "text": [
      "{'group_id': '90000001', 'token': 'test_token', 'created_at': '2021-01-15T03:39:34.000Z', 'updated_at': '2021-01-15T03:39:34.000Z', 'expired_at': '2024-01-15T03:39:34.000Z'}\n"
     ]
    },
    {
     "data": {
      "text/plain": [
       "{'ResponseMetadata': {'RequestId': 'd6d98a6f-dc8a-4592-84f4-9bca7ab4d566',\n",
       "  'HTTPStatusCode': 200,\n",
       "  'HTTPHeaders': {'content-type': 'application/x-amz-json-1.0',\n",
       "   'x-amz-crc32': '2745614147',\n",
       "   'x-amzn-requestid': 'd6d98a6f-dc8a-4592-84f4-9bca7ab4d566',\n",
       "   'content-length': '2',\n",
       "   'server': 'Jetty(8.1.12.v20130726)'},\n",
       "  'RetryAttempts': 0}}"
      ]
     },
     "execution_count": 4,
     "metadata": {},
     "output_type": "execute_result"
    }
   ],
   "source": [
    "table_name_token = \"LocalToken\"\n",
    "\n",
    "dynamo_token = dynamodb.Table(table_name_token)\n",
    "json_token = json.load(open('token.json', 'r'))\n",
    "json_token[\"created_at\"] = now_string\n",
    "json_token[\"updated_at\"] = now_string\n",
    "\n",
    "expired_time = now.replace(year = now.year + 3).strftime(\"%Y-%m-%dT%H:%M:%S.000Z\")\n",
    "json_token[\"expired_at\"] = expired_time\n",
    "print(json_token)\n",
    "dynamo_token.put_item(Item = json_token)"
   ]
  },
  {
   "cell_type": "code",
   "execution_count": 5,
   "metadata": {},
   "outputs": [
    {
     "name": "stdout",
     "output_type": "stream",
     "text": [
      "[{'id': '99999999999', 'name': 'test_project1', 'type': '\"PRIVATE\"', 'group': '[{\"id\": \"000000001\", \"name\": \"タスクリスト\", \"position\": 1}, {\"id\": \"000000002\", \"name\": \"作業中\", \"position\": 2}, {\"id\": \"000000003\", \"name\": \"作成ずみ\", \"position\": 3}]', 'contents': '[{\"id\": \"100000001\", \"name\": \"タスクリスト１\", \"group_id\": \"000000001\", \"created_user_id\": \"90000001\", \"updated_user_id\": \"90000001\", \"created_at\": \"2021-01-04T00:01:02.000Z\", \"updated_at\": \"2021-01-04T00:01:02.000Z\"}, {\"id\": \"100000002\", \"name\": \"タスクリスト2\", \"group_id\": \"000000001\", \"created_user_id\": \"90000001\", \"updated_user_id\": \"90000001\", \"created_at\": \"2021-01-04T00:01:02.000Z\", \"updated_at\": \"2021-01-04T00:01:02.000Z\"}, {\"id\": \"100000003\", \"name\": \"作業中1\", \"group_id\": \"000000002\", \"created_user_id\": \"90000001\", \"updated_user_id\": \"90000001\", \"created_at\": \"2021-01-04T00:01:02.000Z\", \"updated_at\": \"2021-01-04T00:01:02.000Z\"}, {\"id\": \"100000004\", \"name\": \"作業中2\", \"group_id\": \"000000002\", \"created_user_id\": \"90000001\", \"updated_user_id\": \"90000001\", \"created_at\": \"2021-01-04T00:01:02.000Z\", \"updated_at\": \"2021-01-04T00:01:02.000Z\"}]', 'writer': '[{\"id\": \"90000001\", \"name\": \"テストユーザー１\"}]', 'viewer': '[{\"id\": \"90000002\", \"name\": \"テストユーザー2\"}]', 'created_at': '2021-01-15T03:39:34.000Z', 'updated_at': '2021-01-15T03:39:34.000Z'}, {'id': '99999999998', 'name': 'test_project2', 'type': '\"PRIVATE\"', 'group': '[{\"id\": \"000000001\", \"name\": \"タスクリスト\", \"position\": 1}, {\"id\": \"000000002\", \"name\": \"作業中\", \"position\": 2}, {\"id\": \"000000003\", \"name\": \"作成ずみ\", \"position\": 3}]', 'contents': '[{\"id\": \"100000001\", \"name\": \"タスクリスト１\", \"group_id\": \"000000001\", \"created_user_id\": \"90000001\", \"updated_user_id\": \"90000001\", \"created_at\": \"2021-01-04T00:01:02.000Z\", \"updated_at\": \"2021-01-04T00:01:02.000Z\"}, {\"id\": \"100000002\", \"name\": \"タスクリスト2\", \"group_id\": \"000000001\", \"created_user_id\": \"90000001\", \"updated_user_id\": \"90000001\", \"created_at\": \"2021-01-04T00:01:02.000Z\", \"updated_at\": \"2021-01-04T00:01:02.000Z\"}, {\"id\": \"100000003\", \"name\": \"作業中1\", \"group_id\": \"000000002\", \"created_user_id\": \"90000001\", \"updated_user_id\": \"90000001\", \"created_at\": \"2021-01-04T00:01:02.000Z\", \"updated_at\": \"2021-01-04T00:01:02.000Z\"}, {\"id\": \"100000004\", \"name\": \"作業中2\", \"group_id\": \"000000002\", \"created_user_id\": \"90000001\", \"updated_user_id\": \"90000001\", \"created_at\": \"2021-01-04T00:01:02.000Z\", \"updated_at\": \"2021-01-04T00:01:02.000Z\"}]', 'writer': '[{\"id\": \"90000001\", \"name\": \"テストユーザー１\"}]', 'viewer': '[{\"id\": \"90000002\", \"name\": \"テストユーザー2\"}]', 'created_at': '2021-01-15T03:39:34.000Z', 'updated_at': '2021-01-15T03:39:34.000Z'}]\n"
     ]
    },
    {
     "ename": "ParamValidationError",
     "evalue": "Parameter validation failed:\nInvalid type for parameter Item, value: [{'id': '99999999999', 'name': 'test_project1', 'type': '\"PRIVATE\"', 'group': '[{\"id\": \"000000001\", \"name\": \"タスクリスト\", \"position\": 1}, {\"id\": \"000000002\", \"name\": \"作業中\", \"position\": 2}, {\"id\": \"000000003\", \"name\": \"作成ずみ\", \"position\": 3}]', 'contents': '[{\"id\": \"100000001\", \"name\": \"タスクリスト１\", \"group_id\": \"000000001\", \"created_user_id\": \"90000001\", \"updated_user_id\": \"90000001\", \"created_at\": \"2021-01-04T00:01:02.000Z\", \"updated_at\": \"2021-01-04T00:01:02.000Z\"}, {\"id\": \"100000002\", \"name\": \"タスクリスト2\", \"group_id\": \"000000001\", \"created_user_id\": \"90000001\", \"updated_user_id\": \"90000001\", \"created_at\": \"2021-01-04T00:01:02.000Z\", \"updated_at\": \"2021-01-04T00:01:02.000Z\"}, {\"id\": \"100000003\", \"name\": \"作業中1\", \"group_id\": \"000000002\", \"created_user_id\": \"90000001\", \"updated_user_id\": \"90000001\", \"created_at\": \"2021-01-04T00:01:02.000Z\", \"updated_at\": \"2021-01-04T00:01:02.000Z\"}, {\"id\": \"100000004\", \"name\": \"作業中2\", \"group_id\": \"000000002\", \"created_user_id\": \"90000001\", \"updated_user_id\": \"90000001\", \"created_at\": \"2021-01-04T00:01:02.000Z\", \"updated_at\": \"2021-01-04T00:01:02.000Z\"}]', 'writer': '[{\"id\": \"90000001\", \"name\": \"テストユーザー１\"}]', 'viewer': '[{\"id\": \"90000002\", \"name\": \"テストユーザー2\"}]', 'created_at': '2021-01-15T03:39:34.000Z', 'updated_at': '2021-01-15T03:39:34.000Z'}, {'id': '99999999998', 'name': 'test_project2', 'type': '\"PRIVATE\"', 'group': '[{\"id\": \"000000001\", \"name\": \"タスクリスト\", \"position\": 1}, {\"id\": \"000000002\", \"name\": \"作業中\", \"position\": 2}, {\"id\": \"000000003\", \"name\": \"作成ずみ\", \"position\": 3}]', 'contents': '[{\"id\": \"100000001\", \"name\": \"タスクリスト１\", \"group_id\": \"000000001\", \"created_user_id\": \"90000001\", \"updated_user_id\": \"90000001\", \"created_at\": \"2021-01-04T00:01:02.000Z\", \"updated_at\": \"2021-01-04T00:01:02.000Z\"}, {\"id\": \"100000002\", \"name\": \"タスクリスト2\", \"group_id\": \"000000001\", \"created_user_id\": \"90000001\", \"updated_user_id\": \"90000001\", \"created_at\": \"2021-01-04T00:01:02.000Z\", \"updated_at\": \"2021-01-04T00:01:02.000Z\"}, {\"id\": \"100000003\", \"name\": \"作業中1\", \"group_id\": \"000000002\", \"created_user_id\": \"90000001\", \"updated_user_id\": \"90000001\", \"created_at\": \"2021-01-04T00:01:02.000Z\", \"updated_at\": \"2021-01-04T00:01:02.000Z\"}, {\"id\": \"100000004\", \"name\": \"作業中2\", \"group_id\": \"000000002\", \"created_user_id\": \"90000001\", \"updated_user_id\": \"90000001\", \"created_at\": \"2021-01-04T00:01:02.000Z\", \"updated_at\": \"2021-01-04T00:01:02.000Z\"}]', 'writer': '[{\"id\": \"90000001\", \"name\": \"テストユーザー１\"}]', 'viewer': '[{\"id\": \"90000002\", \"name\": \"テストユーザー2\"}]', 'created_at': '2021-01-15T03:39:34.000Z', 'updated_at': '2021-01-15T03:39:34.000Z'}], type: <class 'list'>, valid types: <class 'dict'>",
     "output_type": "error",
     "traceback": [
      "\u001b[0;31m---------------------------------------------------------------------------\u001b[0m",
      "\u001b[0;31mParamValidationError\u001b[0m                      Traceback (most recent call last)",
      "\u001b[0;32m<ipython-input-5-158de2e28772>\u001b[0m in \u001b[0;36m<module>\u001b[0;34m\u001b[0m\n\u001b[1;32m     15\u001b[0m \u001b[0;34m\u001b[0m\u001b[0m\n\u001b[1;32m     16\u001b[0m \u001b[0mprint\u001b[0m\u001b[0;34m(\u001b[0m\u001b[0mjson_project\u001b[0m\u001b[0;34m)\u001b[0m\u001b[0;34m\u001b[0m\u001b[0;34m\u001b[0m\u001b[0m\n\u001b[0;32m---> 17\u001b[0;31m \u001b[0mdynamo_project\u001b[0m\u001b[0;34m.\u001b[0m\u001b[0mput_item\u001b[0m\u001b[0;34m(\u001b[0m\u001b[0mItem\u001b[0m \u001b[0;34m=\u001b[0m \u001b[0mjson_project\u001b[0m\u001b[0;34m)\u001b[0m\u001b[0;34m\u001b[0m\u001b[0;34m\u001b[0m\u001b[0m\n\u001b[0m",
      "\u001b[0;32m/opt/conda/lib/python3.8/site-packages/boto3/resources/factory.py\u001b[0m in \u001b[0;36mdo_action\u001b[0;34m(self, *args, **kwargs)\u001b[0m\n\u001b[1;32m    518\u001b[0m             \u001b[0;31m# instance via ``self``.\u001b[0m\u001b[0;34m\u001b[0m\u001b[0;34m\u001b[0m\u001b[0;34m\u001b[0m\u001b[0m\n\u001b[1;32m    519\u001b[0m             \u001b[0;32mdef\u001b[0m \u001b[0mdo_action\u001b[0m\u001b[0;34m(\u001b[0m\u001b[0mself\u001b[0m\u001b[0;34m,\u001b[0m \u001b[0;34m*\u001b[0m\u001b[0margs\u001b[0m\u001b[0;34m,\u001b[0m \u001b[0;34m**\u001b[0m\u001b[0mkwargs\u001b[0m\u001b[0;34m)\u001b[0m\u001b[0;34m:\u001b[0m\u001b[0;34m\u001b[0m\u001b[0;34m\u001b[0m\u001b[0m\n\u001b[0;32m--> 520\u001b[0;31m                 \u001b[0mresponse\u001b[0m \u001b[0;34m=\u001b[0m \u001b[0maction\u001b[0m\u001b[0;34m(\u001b[0m\u001b[0mself\u001b[0m\u001b[0;34m,\u001b[0m \u001b[0;34m*\u001b[0m\u001b[0margs\u001b[0m\u001b[0;34m,\u001b[0m \u001b[0;34m**\u001b[0m\u001b[0mkwargs\u001b[0m\u001b[0;34m)\u001b[0m\u001b[0;34m\u001b[0m\u001b[0;34m\u001b[0m\u001b[0m\n\u001b[0m\u001b[1;32m    521\u001b[0m \u001b[0;34m\u001b[0m\u001b[0m\n\u001b[1;32m    522\u001b[0m                 \u001b[0;32mif\u001b[0m \u001b[0mhasattr\u001b[0m\u001b[0;34m(\u001b[0m\u001b[0mself\u001b[0m\u001b[0;34m,\u001b[0m \u001b[0;34m'load'\u001b[0m\u001b[0;34m)\u001b[0m\u001b[0;34m:\u001b[0m\u001b[0;34m\u001b[0m\u001b[0;34m\u001b[0m\u001b[0m\n",
      "\u001b[0;32m/opt/conda/lib/python3.8/site-packages/boto3/resources/action.py\u001b[0m in \u001b[0;36m__call__\u001b[0;34m(self, parent, *args, **kwargs)\u001b[0m\n\u001b[1;32m     81\u001b[0m                     operation_name, params)\n\u001b[1;32m     82\u001b[0m \u001b[0;34m\u001b[0m\u001b[0m\n\u001b[0;32m---> 83\u001b[0;31m         \u001b[0mresponse\u001b[0m \u001b[0;34m=\u001b[0m \u001b[0mgetattr\u001b[0m\u001b[0;34m(\u001b[0m\u001b[0mparent\u001b[0m\u001b[0;34m.\u001b[0m\u001b[0mmeta\u001b[0m\u001b[0;34m.\u001b[0m\u001b[0mclient\u001b[0m\u001b[0;34m,\u001b[0m \u001b[0moperation_name\u001b[0m\u001b[0;34m)\u001b[0m\u001b[0;34m(\u001b[0m\u001b[0;34m*\u001b[0m\u001b[0margs\u001b[0m\u001b[0;34m,\u001b[0m \u001b[0;34m**\u001b[0m\u001b[0mparams\u001b[0m\u001b[0;34m)\u001b[0m\u001b[0;34m\u001b[0m\u001b[0;34m\u001b[0m\u001b[0m\n\u001b[0m\u001b[1;32m     84\u001b[0m \u001b[0;34m\u001b[0m\u001b[0m\n\u001b[1;32m     85\u001b[0m         \u001b[0mlogger\u001b[0m\u001b[0;34m.\u001b[0m\u001b[0mdebug\u001b[0m\u001b[0;34m(\u001b[0m\u001b[0;34m'Response: %r'\u001b[0m\u001b[0;34m,\u001b[0m \u001b[0mresponse\u001b[0m\u001b[0;34m)\u001b[0m\u001b[0;34m\u001b[0m\u001b[0;34m\u001b[0m\u001b[0m\n",
      "\u001b[0;32m/opt/conda/lib/python3.8/site-packages/botocore/client.py\u001b[0m in \u001b[0;36m_api_call\u001b[0;34m(self, *args, **kwargs)\u001b[0m\n\u001b[1;32m    355\u001b[0m                     \"%s() only accepts keyword arguments.\" % py_operation_name)\n\u001b[1;32m    356\u001b[0m             \u001b[0;31m# The \"self\" in this scope is referring to the BaseClient.\u001b[0m\u001b[0;34m\u001b[0m\u001b[0;34m\u001b[0m\u001b[0;34m\u001b[0m\u001b[0m\n\u001b[0;32m--> 357\u001b[0;31m             \u001b[0;32mreturn\u001b[0m \u001b[0mself\u001b[0m\u001b[0;34m.\u001b[0m\u001b[0m_make_api_call\u001b[0m\u001b[0;34m(\u001b[0m\u001b[0moperation_name\u001b[0m\u001b[0;34m,\u001b[0m \u001b[0mkwargs\u001b[0m\u001b[0;34m)\u001b[0m\u001b[0;34m\u001b[0m\u001b[0;34m\u001b[0m\u001b[0m\n\u001b[0m\u001b[1;32m    358\u001b[0m \u001b[0;34m\u001b[0m\u001b[0m\n\u001b[1;32m    359\u001b[0m         \u001b[0m_api_call\u001b[0m\u001b[0;34m.\u001b[0m\u001b[0m__name__\u001b[0m \u001b[0;34m=\u001b[0m \u001b[0mstr\u001b[0m\u001b[0;34m(\u001b[0m\u001b[0mpy_operation_name\u001b[0m\u001b[0;34m)\u001b[0m\u001b[0;34m\u001b[0m\u001b[0;34m\u001b[0m\u001b[0m\n",
      "\u001b[0;32m/opt/conda/lib/python3.8/site-packages/botocore/client.py\u001b[0m in \u001b[0;36m_make_api_call\u001b[0;34m(self, operation_name, api_params)\u001b[0m\n\u001b[1;32m    646\u001b[0m             \u001b[0;34m'auth_type'\u001b[0m\u001b[0;34m:\u001b[0m \u001b[0moperation_model\u001b[0m\u001b[0;34m.\u001b[0m\u001b[0mauth_type\u001b[0m\u001b[0;34m,\u001b[0m\u001b[0;34m\u001b[0m\u001b[0;34m\u001b[0m\u001b[0m\n\u001b[1;32m    647\u001b[0m         }\n\u001b[0;32m--> 648\u001b[0;31m         request_dict = self._convert_to_request_dict(\n\u001b[0m\u001b[1;32m    649\u001b[0m             api_params, operation_model, context=request_context)\n\u001b[1;32m    650\u001b[0m \u001b[0;34m\u001b[0m\u001b[0m\n",
      "\u001b[0;32m/opt/conda/lib/python3.8/site-packages/botocore/client.py\u001b[0m in \u001b[0;36m_convert_to_request_dict\u001b[0;34m(self, api_params, operation_model, context)\u001b[0m\n\u001b[1;32m    694\u001b[0m         api_params = self._emit_api_params(\n\u001b[1;32m    695\u001b[0m             api_params, operation_model, context)\n\u001b[0;32m--> 696\u001b[0;31m         request_dict = self._serializer.serialize_to_request(\n\u001b[0m\u001b[1;32m    697\u001b[0m             api_params, operation_model)\n\u001b[1;32m    698\u001b[0m         \u001b[0;32mif\u001b[0m \u001b[0;32mnot\u001b[0m \u001b[0mself\u001b[0m\u001b[0;34m.\u001b[0m\u001b[0m_client_config\u001b[0m\u001b[0;34m.\u001b[0m\u001b[0minject_host_prefix\u001b[0m\u001b[0;34m:\u001b[0m\u001b[0;34m\u001b[0m\u001b[0;34m\u001b[0m\u001b[0m\n",
      "\u001b[0;32m/opt/conda/lib/python3.8/site-packages/botocore/validate.py\u001b[0m in \u001b[0;36mserialize_to_request\u001b[0;34m(self, parameters, operation_model)\u001b[0m\n\u001b[1;32m    295\u001b[0m                                                     operation_model.input_shape)\n\u001b[1;32m    296\u001b[0m             \u001b[0;32mif\u001b[0m \u001b[0mreport\u001b[0m\u001b[0;34m.\u001b[0m\u001b[0mhas_errors\u001b[0m\u001b[0;34m(\u001b[0m\u001b[0;34m)\u001b[0m\u001b[0;34m:\u001b[0m\u001b[0;34m\u001b[0m\u001b[0;34m\u001b[0m\u001b[0m\n\u001b[0;32m--> 297\u001b[0;31m                 \u001b[0;32mraise\u001b[0m \u001b[0mParamValidationError\u001b[0m\u001b[0;34m(\u001b[0m\u001b[0mreport\u001b[0m\u001b[0;34m=\u001b[0m\u001b[0mreport\u001b[0m\u001b[0;34m.\u001b[0m\u001b[0mgenerate_report\u001b[0m\u001b[0;34m(\u001b[0m\u001b[0;34m)\u001b[0m\u001b[0;34m)\u001b[0m\u001b[0;34m\u001b[0m\u001b[0;34m\u001b[0m\u001b[0m\n\u001b[0m\u001b[1;32m    298\u001b[0m         return self._serializer.serialize_to_request(parameters,\n\u001b[1;32m    299\u001b[0m                                                      operation_model)\n",
      "\u001b[0;31mParamValidationError\u001b[0m: Parameter validation failed:\nInvalid type for parameter Item, value: [{'id': '99999999999', 'name': 'test_project1', 'type': '\"PRIVATE\"', 'group': '[{\"id\": \"000000001\", \"name\": \"タスクリスト\", \"position\": 1}, {\"id\": \"000000002\", \"name\": \"作業中\", \"position\": 2}, {\"id\": \"000000003\", \"name\": \"作成ずみ\", \"position\": 3}]', 'contents': '[{\"id\": \"100000001\", \"name\": \"タスクリスト１\", \"group_id\": \"000000001\", \"created_user_id\": \"90000001\", \"updated_user_id\": \"90000001\", \"created_at\": \"2021-01-04T00:01:02.000Z\", \"updated_at\": \"2021-01-04T00:01:02.000Z\"}, {\"id\": \"100000002\", \"name\": \"タスクリスト2\", \"group_id\": \"000000001\", \"created_user_id\": \"90000001\", \"updated_user_id\": \"90000001\", \"created_at\": \"2021-01-04T00:01:02.000Z\", \"updated_at\": \"2021-01-04T00:01:02.000Z\"}, {\"id\": \"100000003\", \"name\": \"作業中1\", \"group_id\": \"000000002\", \"created_user_id\": \"90000001\", \"updated_user_id\": \"90000001\", \"created_at\": \"2021-01-04T00:01:02.000Z\", \"updated_at\": \"2021-01-04T00:01:02.000Z\"}, {\"id\": \"100000004\", \"name\": \"作業中2\", \"group_id\": \"000000002\", \"created_user_id\": \"90000001\", \"updated_user_id\": \"90000001\", \"created_at\": \"2021-01-04T00:01:02.000Z\", \"updated_at\": \"2021-01-04T00:01:02.000Z\"}]', 'writer': '[{\"id\": \"90000001\", \"name\": \"テストユーザー１\"}]', 'viewer': '[{\"id\": \"90000002\", \"name\": \"テストユーザー2\"}]', 'created_at': '2021-01-15T03:39:34.000Z', 'updated_at': '2021-01-15T03:39:34.000Z'}, {'id': '99999999998', 'name': 'test_project2', 'type': '\"PRIVATE\"', 'group': '[{\"id\": \"000000001\", \"name\": \"タスクリスト\", \"position\": 1}, {\"id\": \"000000002\", \"name\": \"作業中\", \"position\": 2}, {\"id\": \"000000003\", \"name\": \"作成ずみ\", \"position\": 3}]', 'contents': '[{\"id\": \"100000001\", \"name\": \"タスクリスト１\", \"group_id\": \"000000001\", \"created_user_id\": \"90000001\", \"updated_user_id\": \"90000001\", \"created_at\": \"2021-01-04T00:01:02.000Z\", \"updated_at\": \"2021-01-04T00:01:02.000Z\"}, {\"id\": \"100000002\", \"name\": \"タスクリスト2\", \"group_id\": \"000000001\", \"created_user_id\": \"90000001\", \"updated_user_id\": \"90000001\", \"created_at\": \"2021-01-04T00:01:02.000Z\", \"updated_at\": \"2021-01-04T00:01:02.000Z\"}, {\"id\": \"100000003\", \"name\": \"作業中1\", \"group_id\": \"000000002\", \"created_user_id\": \"90000001\", \"updated_user_id\": \"90000001\", \"created_at\": \"2021-01-04T00:01:02.000Z\", \"updated_at\": \"2021-01-04T00:01:02.000Z\"}, {\"id\": \"100000004\", \"name\": \"作業中2\", \"group_id\": \"000000002\", \"created_user_id\": \"90000001\", \"updated_user_id\": \"90000001\", \"created_at\": \"2021-01-04T00:01:02.000Z\", \"updated_at\": \"2021-01-04T00:01:02.000Z\"}]', 'writer': '[{\"id\": \"90000001\", \"name\": \"テストユーザー１\"}]', 'viewer': '[{\"id\": \"90000002\", \"name\": \"テストユーザー2\"}]', 'created_at': '2021-01-15T03:39:34.000Z', 'updated_at': '2021-01-15T03:39:34.000Z'}], type: <class 'list'>, valid types: <class 'dict'>"
     ]
    }
   ],
   "source": [
    "table_name_project = \"LocalProject\"\n",
    "\n",
    "dynamo_project = dynamodb.Table(table_name_project)\n",
    "json_project = json.load(open('project.json', 'r'))\n",
    "\n",
    "import json\n",
    "for i in range(len(json_project)):\n",
    "    json_project[i][\"writer\"] = json.dumps(json_project[i][\"writer\"], ensure_ascii=False)\n",
    "    json_project[i][\"viewer\"] = json.dumps(json_project[i][\"viewer\"], ensure_ascii=False)\n",
    "    json_project[i][\"contents\"] = json.dumps(json_project[i][\"contents\"], ensure_ascii=False)\n",
    "    json_project[i][\"group\"] = json.dumps(json_project[i][\"group\"], ensure_ascii=False)\n",
    "    json_project[i][\"created_at\"] = now_string\n",
    "    json_project[i][\"updated_at\"] = now_string\n",
    "    print(json_project[i])\n",
    "    dynamo_project.put_item(Item = json_project[i])\n"
   ]
  }
 ],
 "metadata": {
  "kernelspec": {
   "display_name": "Python 3",
   "language": "python",
   "name": "python3"
  },
  "language_info": {
   "codemirror_mode": {
    "name": "ipython",
    "version": 3
   },
   "file_extension": ".py",
   "mimetype": "text/x-python",
   "name": "python",
   "nbconvert_exporter": "python",
   "pygments_lexer": "ipython3",
   "version": "3.8.6"
  }
 },
 "nbformat": 4,
 "nbformat_minor": 4
}
