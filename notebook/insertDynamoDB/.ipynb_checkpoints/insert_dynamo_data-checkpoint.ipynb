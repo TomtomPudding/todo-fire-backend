{
 "cells": [
  {
   "cell_type": "markdown",
   "metadata": {},
   "source": [
    "## DynamoDB 初期データ挿入 Notebook (Local)"
   ]
  },
  {
   "cell_type": "code",
   "execution_count": 1,
   "metadata": {},
   "outputs": [],
   "source": [
    "import boto3\n",
    "\n",
    "dynamodb = boto3.resource('dynamodb', endpoint_url=\"http://host.docker.internal:8000\",\n",
    "                            region_name='ap-northeast-1')"
   ]
  },
  {
   "cell_type": "markdown",
   "metadata": {},
   "source": [
    "### User テーブル 初期データ追加"
   ]
  },
  {
   "cell_type": "code",
   "execution_count": 2,
   "metadata": {},
   "outputs": [],
   "source": [
    "import datetime\n",
    "import pytz\n",
    "\n",
    "now = datetime.datetime.now(pytz.timezone('Asia/Tokyo'))\n",
    "now_string = now.strftime(\"%Y-%m-%dT%H:%M:%S.000Z\")"
   ]
  },
  {
   "cell_type": "code",
   "execution_count": 3,
   "metadata": {},
   "outputs": [
    {
     "ename": "NameError",
     "evalue": "name 'json_project' is not defined",
     "output_type": "error",
     "traceback": [
      "\u001b[0;31m---------------------------------------------------------------------------\u001b[0m",
      "\u001b[0;31mNameError\u001b[0m                                 Traceback (most recent call last)",
      "\u001b[0;32m<ipython-input-3-04f73b27d00e>\u001b[0m in \u001b[0;36m<module>\u001b[0;34m\u001b[0m\n\u001b[1;32m      5\u001b[0m \u001b[0mdynamo_user\u001b[0m \u001b[0;34m=\u001b[0m \u001b[0mdynamodb\u001b[0m\u001b[0;34m.\u001b[0m\u001b[0mTable\u001b[0m\u001b[0;34m(\u001b[0m\u001b[0mtable_name_user\u001b[0m\u001b[0;34m)\u001b[0m\u001b[0;34m\u001b[0m\u001b[0;34m\u001b[0m\u001b[0m\n\u001b[1;32m      6\u001b[0m \u001b[0mjson_user\u001b[0m \u001b[0;34m=\u001b[0m \u001b[0mjson\u001b[0m\u001b[0;34m.\u001b[0m\u001b[0mload\u001b[0m\u001b[0;34m(\u001b[0m\u001b[0mopen\u001b[0m\u001b[0;34m(\u001b[0m\u001b[0;34m'user.json'\u001b[0m\u001b[0;34m,\u001b[0m \u001b[0;34m'r'\u001b[0m\u001b[0;34m)\u001b[0m\u001b[0;34m)\u001b[0m\u001b[0;34m\u001b[0m\u001b[0;34m\u001b[0m\u001b[0m\n\u001b[0;32m----> 7\u001b[0;31m \u001b[0mjson_user\u001b[0m\u001b[0;34m[\u001b[0m\u001b[0;34m\"project_ids\"\u001b[0m\u001b[0;34m]\u001b[0m \u001b[0;34m=\u001b[0m \u001b[0mjson\u001b[0m\u001b[0;34m.\u001b[0m\u001b[0mdumps\u001b[0m\u001b[0;34m(\u001b[0m\u001b[0mjson_project\u001b[0m\u001b[0;34m[\u001b[0m\u001b[0;34m\"project_ids\"\u001b[0m\u001b[0;34m]\u001b[0m\u001b[0;34m,\u001b[0m \u001b[0mensure_ascii\u001b[0m\u001b[0;34m=\u001b[0m\u001b[0;32mFalse\u001b[0m\u001b[0;34m)\u001b[0m\u001b[0;34m\u001b[0m\u001b[0;34m\u001b[0m\u001b[0m\n\u001b[0m\u001b[1;32m      8\u001b[0m \u001b[0mjson_user\u001b[0m\u001b[0;34m[\u001b[0m\u001b[0;34m\"created_at\"\u001b[0m\u001b[0;34m]\u001b[0m \u001b[0;34m=\u001b[0m \u001b[0mnow_string\u001b[0m\u001b[0;34m\u001b[0m\u001b[0;34m\u001b[0m\u001b[0m\n\u001b[1;32m      9\u001b[0m \u001b[0mjson_user\u001b[0m\u001b[0;34m[\u001b[0m\u001b[0;34m\"updated_at\"\u001b[0m\u001b[0;34m]\u001b[0m \u001b[0;34m=\u001b[0m \u001b[0mnow_string\u001b[0m\u001b[0;34m\u001b[0m\u001b[0;34m\u001b[0m\u001b[0m\n",
      "\u001b[0;31mNameError\u001b[0m: name 'json_project' is not defined"
     ]
    }
   ],
   "source": [
    "import json\n",
    "\n",
    "table_name_user = \"LocalUser\"\n",
    "\n",
    "dynamo_user = dynamodb.Table(table_name_user)\n",
    "json_user = json.load(open('user.json', 'r'))\n",
    "json_user[\"project_ids\"] = json.dumps(json_user[\"project_ids\"], ensure_ascii=False)\n",
    "json_user[\"created_at\"] = now_string\n",
    "json_user[\"updated_at\"] = now_string\n",
    "\n",
    "dynamo_user.put_item(Item = json_user)"
   ]
  },
  {
   "cell_type": "markdown",
   "metadata": {},
   "source": [
    "### Tokenテーブル 初期データ追加"
   ]
  },
  {
   "cell_type": "code",
   "execution_count": null,
   "metadata": {},
   "outputs": [],
   "source": [
    "table_name_token = \"LocalToken\"\n",
    "\n",
    "dynamo_token = dynamodb.Table(table_name_token)\n",
    "json_token = json.load(open('token.json', 'r'))\n",
    "json_token[\"created_at\"] = now_string\n",
    "json_token[\"updated_at\"] = now_string\n",
    "\n",
    "expired_time = now.replace(year = now.year + 3).strftime(\"%Y-%m-%dT%H:%M:%S.000Z\")\n",
    "json_token[\"expired_at\"] = expired_time\n",
    "print(json_token)\n",
    "dynamo_token.put_item(Item = json_token)"
   ]
  },
  {
   "cell_type": "code",
   "execution_count": null,
   "metadata": {},
   "outputs": [],
   "source": [
    "table_name_project = \"LocalProject\"\n",
    "\n",
    "dynamo_project = dynamodb.Table(table_name_project)\n",
    "json_project = json.load(open('project.json', 'r'))\n",
    "\n",
    "import json\n",
    "for i in range(len(json_project)):\n",
    "    json_project[i][\"writer\"] = json.dumps(json_project[i][\"writer\"], ensure_ascii=False)\n",
    "    json_project[i][\"viewer\"] = json.dumps(json_project[i][\"viewer\"], ensure_ascii=False)\n",
    "    json_project[i][\"contents\"] = json.dumps(json_project[i][\"contents\"], ensure_ascii=False)\n",
    "    json_project[i][\"group\"] = json.dumps(json_project[i][\"group\"], ensure_ascii=False)\n",
    "    json_project[i][\"created_at\"] = now_string\n",
    "    json_project[i][\"updated_at\"] = now_string\n",
    "    print(json_project[i])\n",
    "    dynamo_project.put_item(Item = json_project[i])\n"
   ]
  }
 ],
 "metadata": {
  "kernelspec": {
   "display_name": "Python 3",
   "language": "python",
   "name": "python3"
  },
  "language_info": {
   "codemirror_mode": {
    "name": "ipython",
    "version": 3
   },
   "file_extension": ".py",
   "mimetype": "text/x-python",
   "name": "python",
   "nbconvert_exporter": "python",
   "pygments_lexer": "ipython3",
   "version": "3.8.6"
  }
 },
 "nbformat": 4,
 "nbformat_minor": 4
}
